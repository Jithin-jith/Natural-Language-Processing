{
 "cells": [
  {
   "cell_type": "markdown",
   "id": "89e58c2a-d1a5-4f90-9639-58009b062ce3",
   "metadata": {},
   "source": [
    "## Importing Packages and Modules"
   ]
  },
  {
   "cell_type": "code",
   "execution_count": 3,
   "id": "696d3bf3",
   "metadata": {},
   "outputs": [],
   "source": [
    "import transformers\n",
    "import torch\n",
    "import warnings\n",
    "#Set to avoid warning messages.\n",
    "transformers.logging.set_verbosity_error()\n",
    "warnings.filterwarnings(\"ignore\")"
   ]
  },
  {
   "cell_type": "markdown",
   "id": "413f0377",
   "metadata": {},
   "source": [
    "## Running the standard NER Pipeline"
   ]
  },
  {
   "cell_type": "code",
   "execution_count": 4,
   "id": "8d4f73e3",
   "metadata": {},
   "outputs": [
    {
     "name": "stdout",
     "output_type": "stream",
     "text": [
      "WARNING:tensorflow:From C:\\Users\\JITHIN\\anaconda3\\envs\\nlp\\Lib\\site-packages\\tf_keras\\src\\losses.py:2976: The name tf.losses.sparse_softmax_cross_entropy is deprecated. Please use tf.compat.v1.losses.sparse_softmax_cross_entropy instead.\n",
      "\n"
     ]
    },
    {
     "data": {
      "text/plain": [
       "[{'entity': 'I-LOC',\n",
       "  'score': 0.99946374,\n",
       "  'index': 6,\n",
       "  'word': 'India',\n",
       "  'start': 21,\n",
       "  'end': 26},\n",
       " {'entity': 'I-MISC',\n",
       "  'score': 0.9966717,\n",
       "  'index': 10,\n",
       "  'word': 'British',\n",
       "  'start': 52,\n",
       "  'end': 59},\n",
       " {'entity': 'I-PER',\n",
       "  'score': 0.99846977,\n",
       "  'index': 14,\n",
       "  'word': 'J',\n",
       "  'start': 71,\n",
       "  'end': 72},\n",
       " {'entity': 'I-PER',\n",
       "  'score': 0.9908835,\n",
       "  'index': 15,\n",
       "  'word': '##awa',\n",
       "  'start': 72,\n",
       "  'end': 75},\n",
       " {'entity': 'I-PER',\n",
       "  'score': 0.9921595,\n",
       "  'index': 16,\n",
       "  'word': '##har',\n",
       "  'start': 75,\n",
       "  'end': 78},\n",
       " {'entity': 'I-PER',\n",
       "  'score': 0.9961021,\n",
       "  'index': 17,\n",
       "  'word': '##lal',\n",
       "  'start': 78,\n",
       "  'end': 81},\n",
       " {'entity': 'I-PER',\n",
       "  'score': 0.9992405,\n",
       "  'index': 18,\n",
       "  'word': 'Nehru',\n",
       "  'start': 82,\n",
       "  'end': 87},\n",
       " {'entity': 'I-LOC',\n",
       "  'score': 0.9991875,\n",
       "  'index': 26,\n",
       "  'word': 'Delhi',\n",
       "  'start': 127,\n",
       "  'end': 132},\n",
       " {'entity': 'I-LOC',\n",
       "  'score': 0.9986883,\n",
       "  'index': 35,\n",
       "  'word': 'Republic',\n",
       "  'start': 180,\n",
       "  'end': 188},\n",
       " {'entity': 'I-LOC',\n",
       "  'score': 0.9946825,\n",
       "  'index': 36,\n",
       "  'word': 'of',\n",
       "  'start': 189,\n",
       "  'end': 191},\n",
       " {'entity': 'I-LOC',\n",
       "  'score': 0.99684924,\n",
       "  'index': 37,\n",
       "  'word': 'India',\n",
       "  'start': 192,\n",
       "  'end': 197}]"
      ]
     },
     "execution_count": 4,
     "metadata": {},
     "output_type": "execute_result"
    }
   ],
   "source": [
    "from transformers import pipeline\n",
    "\n",
    "input_text=\"On 15th August 1947, India gained independence from British rule, \\\n",
    "with Jawaharlal Nehru becoming the first Prime Minister, and Delhi being declared the capital of the newly formed Republic of India\"\n",
    "\n",
    "basic_ner = pipeline(\"ner\")\n",
    "\n",
    "basic_ner(input_text)\n"
   ]
  },
  {
   "cell_type": "markdown",
   "id": "6267ddcd",
   "metadata": {},
   "source": [
    "## Understanding the model architecture"
   ]
  },
  {
   "cell_type": "code",
   "execution_count": 5,
   "id": "b10debb2",
   "metadata": {},
   "outputs": [
    {
     "name": "stdout",
     "output_type": "stream",
     "text": [
      "BertForTokenClassification(\n",
      "  (bert): BertModel(\n",
      "    (embeddings): BertEmbeddings(\n",
      "      (word_embeddings): Embedding(28996, 1024, padding_idx=0)\n",
      "      (position_embeddings): Embedding(512, 1024)\n",
      "      (token_type_embeddings): Embedding(2, 1024)\n",
      "      (LayerNorm): LayerNorm((1024,), eps=1e-12, elementwise_affine=True)\n",
      "      (dropout): Dropout(p=0.1, inplace=False)\n",
      "    )\n",
      "    (encoder): BertEncoder(\n",
      "      (layer): ModuleList(\n",
      "        (0-23): 24 x BertLayer(\n",
      "          (attention): BertAttention(\n",
      "            (self): BertSdpaSelfAttention(\n",
      "              (query): Linear(in_features=1024, out_features=1024, bias=True)\n",
      "              (key): Linear(in_features=1024, out_features=1024, bias=True)\n",
      "              (value): Linear(in_features=1024, out_features=1024, bias=True)\n",
      "              (dropout): Dropout(p=0.1, inplace=False)\n",
      "            )\n",
      "            (output): BertSelfOutput(\n",
      "              (dense): Linear(in_features=1024, out_features=1024, bias=True)\n",
      "              (LayerNorm): LayerNorm((1024,), eps=1e-12, elementwise_affine=True)\n",
      "              (dropout): Dropout(p=0.1, inplace=False)\n",
      "            )\n",
      "          )\n",
      "          (intermediate): BertIntermediate(\n",
      "            (dense): Linear(in_features=1024, out_features=4096, bias=True)\n",
      "            (intermediate_act_fn): GELUActivation()\n",
      "          )\n",
      "          (output): BertOutput(\n",
      "            (dense): Linear(in_features=4096, out_features=1024, bias=True)\n",
      "            (LayerNorm): LayerNorm((1024,), eps=1e-12, elementwise_affine=True)\n",
      "            (dropout): Dropout(p=0.1, inplace=False)\n",
      "          )\n",
      "        )\n",
      "      )\n",
      "    )\n",
      "  )\n",
      "  (dropout): Dropout(p=0.1, inplace=False)\n",
      "  (classifier): Linear(in_features=1024, out_features=9, bias=True)\n",
      ")\n"
     ]
    }
   ],
   "source": [
    "#Print model architecture\n",
    "print(basic_ner.model)\n"
   ]
  },
  {
   "cell_type": "markdown",
   "id": "774664f5",
   "metadata": {},
   "source": [
    "## Reviewing model configuration"
   ]
  },
  {
   "cell_type": "code",
   "execution_count": 6,
   "id": "ccd0c0e0",
   "metadata": {},
   "outputs": [
    {
     "name": "stdout",
     "output_type": "stream",
     "text": [
      "BertConfig {\n",
      "  \"_name_or_path\": \"dbmdz/bert-large-cased-finetuned-conll03-english\",\n",
      "  \"_num_labels\": 9,\n",
      "  \"architectures\": [\n",
      "    \"BertForTokenClassification\"\n",
      "  ],\n",
      "  \"attention_probs_dropout_prob\": 0.1,\n",
      "  \"classifier_dropout\": null,\n",
      "  \"directionality\": \"bidi\",\n",
      "  \"hidden_act\": \"gelu\",\n",
      "  \"hidden_dropout_prob\": 0.1,\n",
      "  \"hidden_size\": 1024,\n",
      "  \"id2label\": {\n",
      "    \"0\": \"O\",\n",
      "    \"1\": \"B-MISC\",\n",
      "    \"2\": \"I-MISC\",\n",
      "    \"3\": \"B-PER\",\n",
      "    \"4\": \"I-PER\",\n",
      "    \"5\": \"B-ORG\",\n",
      "    \"6\": \"I-ORG\",\n",
      "    \"7\": \"B-LOC\",\n",
      "    \"8\": \"I-LOC\"\n",
      "  },\n",
      "  \"initializer_range\": 0.02,\n",
      "  \"intermediate_size\": 4096,\n",
      "  \"label2id\": {\n",
      "    \"B-LOC\": 7,\n",
      "    \"B-MISC\": 1,\n",
      "    \"B-ORG\": 5,\n",
      "    \"B-PER\": 3,\n",
      "    \"I-LOC\": 8,\n",
      "    \"I-MISC\": 2,\n",
      "    \"I-ORG\": 6,\n",
      "    \"I-PER\": 4,\n",
      "    \"O\": 0\n",
      "  },\n",
      "  \"layer_norm_eps\": 1e-12,\n",
      "  \"max_position_embeddings\": 512,\n",
      "  \"model_type\": \"bert\",\n",
      "  \"num_attention_heads\": 16,\n",
      "  \"num_hidden_layers\": 24,\n",
      "  \"pad_token_id\": 0,\n",
      "  \"pooler_fc_size\": 768,\n",
      "  \"pooler_num_attention_heads\": 12,\n",
      "  \"pooler_num_fc_layers\": 3,\n",
      "  \"pooler_size_per_head\": 128,\n",
      "  \"pooler_type\": \"first_token_transform\",\n",
      "  \"position_embedding_type\": \"absolute\",\n",
      "  \"transformers_version\": \"4.44.0\",\n",
      "  \"type_vocab_size\": 2,\n",
      "  \"use_cache\": true,\n",
      "  \"vocab_size\": 28996\n",
      "}\n",
      "\n"
     ]
    }
   ],
   "source": [
    "print(basic_ner.model.config)\n"
   ]
  },
  {
   "cell_type": "markdown",
   "id": "8ce6950f",
   "metadata": {},
   "source": [
    "## Using a Custom Model and tokenizer"
   ]
  },
  {
   "cell_type": "code",
   "execution_count": 7,
   "id": "0e9219da",
   "metadata": {},
   "outputs": [
    {
     "name": "stdout",
     "output_type": "stream",
     "text": [
      "WARNING:tensorflow:From C:\\Users\\JITHIN\\anaconda3\\envs\\nlp\\Lib\\site-packages\\tf_keras\\src\\backend.py:873: The name tf.get_default_graph is deprecated. Please use tf.compat.v1.get_default_graph instead.\n",
      "\n",
      "{0: 'O', 1: 'B-MISC', 2: 'I-MISC', 3: 'B-PER', 4: 'I-PER', 5: 'B-ORG', 6: 'I-ORG', 7: 'B-LOC', 8: 'I-LOC'}\n"
     ]
    }
   ],
   "source": [
    "from transformers import AutoTokenizer, TFAutoModelForTokenClassification\n",
    "\n",
    "tokenizer = AutoTokenizer.from_pretrained(\"dslim/bert-base-NER\", \n",
    "                                          from_pt=True)\n",
    "\n",
    "model = TFAutoModelForTokenClassification.from_pretrained(\"dslim/bert-base-NER\",\n",
    "                                                          from_pt=True)\n",
    "\n",
    "print(model.config.id2label)"
   ]
  },
  {
   "cell_type": "code",
   "execution_count": 8,
   "id": "bf11cdfe",
   "metadata": {},
   "outputs": [
    {
     "data": {
      "text/plain": [
       "[{'entity_group': 'LOC',\n",
       "  'score': 0.9997775,\n",
       "  'word': 'India',\n",
       "  'start': 21,\n",
       "  'end': 26},\n",
       " {'entity_group': 'MISC',\n",
       "  'score': 0.9996197,\n",
       "  'word': 'British',\n",
       "  'start': 52,\n",
       "  'end': 59},\n",
       " {'entity_group': 'PER',\n",
       "  'score': 0.999691,\n",
       "  'word': 'J',\n",
       "  'start': 71,\n",
       "  'end': 72},\n",
       " {'entity_group': 'PER',\n",
       "  'score': 0.9932279,\n",
       "  'word': '##awa',\n",
       "  'start': 72,\n",
       "  'end': 75},\n",
       " {'entity_group': 'PER',\n",
       "  'score': 0.91973585,\n",
       "  'word': '##harlal Nehru',\n",
       "  'start': 75,\n",
       "  'end': 87},\n",
       " {'entity_group': 'LOC',\n",
       "  'score': 0.9996086,\n",
       "  'word': 'Delhi',\n",
       "  'start': 127,\n",
       "  'end': 132},\n",
       " {'entity_group': 'LOC',\n",
       "  'score': 0.99853057,\n",
       "  'word': 'Republic of India',\n",
       "  'start': 180,\n",
       "  'end': 197}]"
      ]
     },
     "execution_count": 8,
     "metadata": {},
     "output_type": "execute_result"
    }
   ],
   "source": [
    "#Prediction\n",
    "enhanced_ner = pipeline('ner', \n",
    "                        model=model, \n",
    "                        tokenizer=tokenizer, \n",
    "                        aggregation_strategy=\"simple\")\n",
    "enhanced_ner(input_text)"
   ]
  },
  {
   "cell_type": "code",
   "execution_count": null,
   "id": "8caf3b89",
   "metadata": {},
   "outputs": [],
   "source": []
  }
 ],
 "metadata": {
  "kernelspec": {
   "display_name": "Python 3 (ipykernel)",
   "language": "python",
   "name": "python3"
  },
  "language_info": {
   "codemirror_mode": {
    "name": "ipython",
    "version": 3
   },
   "file_extension": ".py",
   "mimetype": "text/x-python",
   "name": "python",
   "nbconvert_exporter": "python",
   "pygments_lexer": "ipython3",
   "version": "3.12.4"
  }
 },
 "nbformat": 4,
 "nbformat_minor": 5
}
