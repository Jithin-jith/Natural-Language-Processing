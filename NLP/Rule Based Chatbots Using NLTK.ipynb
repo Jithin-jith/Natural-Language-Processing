{
 "cells": [
  {
   "cell_type": "markdown",
   "id": "863346a5-6b15-4905-9058-d392bf2f9f3c",
   "metadata": {},
   "source": [
    "## Rule Based Chatbot Using Nltk"
   ]
  },
  {
   "cell_type": "raw",
   "id": "f416ad34-94f4-44a8-9790-041ef6e8d3bc",
   "metadata": {},
   "source": []
  },
  {
   "cell_type": "markdown",
   "id": "ff142045-7c83-46b8-bf20-85fcd6d3e888",
   "metadata": {},
   "source": [
    "**What Are Rule-Based Chatbots?**\n",
    "\n",
    "Rule-based chatbots, also known as decision-tree chatbots, are designed to follow a set of predefined rules or scripts to interact with users. These chatbots operate based on specific keywords, patterns, and decision logic, guiding users through a conversation flow determined by the rules set during their development."
   ]
  },
  {
   "cell_type": "markdown",
   "id": "ff2ff66b-2fa1-49b3-be9e-71c2faed04fd",
   "metadata": {},
   "source": [
    "**How Do They Work?**\n",
    "\n",
    "Rule-based chatbots rely on a series of \"if-then\" statements to process user inputs and generate appropriate responses. Here’s a breakdown of their operation:\n",
    "\n",
    "-  **Keyword Matching** : The chatbot scans the user's input for specific keywords or phrases.\n",
    "-  **Pattern Recognition** : It identifies patterns or regular expressions in the input to understand the user’s intent.\n",
    "-  **Predefined Responses** : Based on the recognized keywords and patterns, the chatbot responds with predefined answers or guides the user through a structured decision tree.\n",
    "-  **Branching Logic** : The conversation follows a logical flow, branching into different paths based on the user's responses."
   ]
  },
  {
   "cell_type": "code",
   "execution_count": null,
   "id": "7bb254cd-ca5c-4f29-90f2-93506495b4d4",
   "metadata": {},
   "outputs": [],
   "source": []
  },
  {
   "cell_type": "markdown",
   "id": "d971d1c2-31bb-401c-b6cb-48077e4c2257",
   "metadata": {},
   "source": [
    "### Lets create a Rule Based Chatbot"
   ]
  },
  {
   "cell_type": "markdown",
   "id": "fff589f6-c262-415c-a33e-039f43e7dc51",
   "metadata": {},
   "source": [
    "Lets build a very simple chatbot for a bank that can respond to greetings (Hi, Hello, etc.) and answer questions about the bank’s hours of operation."
   ]
  },
  {
   "cell_type": "markdown",
   "id": "a34b4d6f-8c2b-40c1-bbb5-3648e3b8f278",
   "metadata": {},
   "source": [
    "#### Importing packages"
   ]
  },
  {
   "cell_type": "code",
   "execution_count": 1,
   "id": "d2e10c0e-07d6-44f4-8a5e-af464f21002f",
   "metadata": {},
   "outputs": [],
   "source": [
    "# Importing modules\n",
    "import re\n",
    "from nltk.corpus import wordnet\n",
    "import warnings\n",
    "warnings.filterwarnings('ignore')"
   ]
  },
  {
   "cell_type": "markdown",
   "id": "9ccafb00-329a-4382-9d8a-9a3d6ca408ec",
   "metadata": {},
   "source": [
    "#### Building a list of keywords"
   ]
  },
  {
   "cell_type": "markdown",
   "id": "2e6a69a6-f0ec-4d9e-b87b-b339d2484e35",
   "metadata": {},
   "source": [
    "Once we have imported our libraries, we’ll need to build up a list of keywords that our chatbot will look for. This list can be as exhaustive as you want. The more keywords you have, the better your chatbot will perform."
   ]
  },
  {
   "cell_type": "code",
   "execution_count": 2,
   "id": "a4cf1ae7-9d45-4c7d-b0e7-9fab61005fc4",
   "metadata": {},
   "outputs": [
    {
     "name": "stdout",
     "output_type": "stream",
     "text": [
      "Synonyms for hello : {'hello', 'hullo', 'hi', 'howdy', 'how do you do'}\n",
      "Synonyms for timings : {'time', 'clock', 'timing'}\n"
     ]
    }
   ],
   "source": [
    "# Building a list of Keywords\n",
    "list_words=['hello','timings']\n",
    "list_syn={}\n",
    "for word in list_words:\n",
    "    synonyms=[]\n",
    "    for syn in wordnet.synsets(word):\n",
    "        for lem in syn.lemmas():\n",
    "            # Remove any special characters from synonym strings\n",
    "            lem_name = re.sub('[^a-zA-Z0-9 \\n\\.]', ' ', lem.name())\n",
    "            synonyms.append(lem_name)\n",
    "    list_syn[word]=set(synonyms)\n",
    "print(f'Synonyms for hello : {list_syn['hello']}')\n",
    "print(f'Synonyms for timings : {list_syn['timings']}')"
   ]
  },
  {
   "cell_type": "markdown",
   "id": "d93ddb63-5c43-4ffb-878a-87eff5f4f416",
   "metadata": {},
   "source": [
    "New keywords can simply be added to list_words. The chatbot will automatically pull their synonyms and add them to the keywords dictionary. You can also edit list_syn directly if you want to add specific words or phrases that you know your users will use."
   ]
  },
  {
   "cell_type": "markdown",
   "id": "b6702577-96c0-46c1-a754-45a235ffbe02",
   "metadata": {},
   "source": [
    "#### Building a dictionary of intents"
   ]
  },
  {
   "cell_type": "code",
   "execution_count": 3,
   "id": "53c59997-4e38-45eb-a38c-04b1b88cee26",
   "metadata": {},
   "outputs": [
    {
     "data": {
      "text/plain": [
       "<re.Match object; span=(6, 17), match='hello_world'>"
      ]
     },
     "execution_count": 3,
     "metadata": {},
     "output_type": "execute_result"
    }
   ],
   "source": [
    "re.search('hello_world','iam a hello_world string')"
   ]
  },
  {
   "cell_type": "code",
   "execution_count": 4,
   "id": "263fe47c-57d0-4a61-8f6f-036393cca438",
   "metadata": {},
   "outputs": [],
   "source": [
    "# Building dictionary of Intents & Keywords\n",
    "keywords={}\n",
    "keywords_dict={}\n",
    "# Defining a new key in the keywords dictionary\n",
    "keywords['greet']=[]\n",
    "# Populating the values in the keywords dictionary with synonyms of keywords formatted with RegEx metacharacters \n",
    "for synonym in list(list_syn['hello']):\n",
    "    keywords['greet'].append(synonym)\n",
    "\n",
    "# Defining a new key in the keywords dictionary\n",
    "keywords['timings']=[]\n",
    "# Populating the values in the keywords dictionary with synonyms of keywords formatted with RegEx metacharacters \n",
    "for synonym in list(list_syn['timings']):\n",
    "    keywords['timings'].append(synonym)"
   ]
  },
  {
   "cell_type": "code",
   "execution_count": 5,
   "id": "5bc74540-34d7-4fb4-abd8-52e3912cbaba",
   "metadata": {},
   "outputs": [
    {
     "name": "stdout",
     "output_type": "stream",
     "text": [
      "{'greet': ['hello', 'hullo', 'hi', 'howdy', 'how do you do'], 'timings': ['time', 'clock', 'timing']}\n"
     ]
    }
   ],
   "source": [
    "for intent, keys in keywords.items():\n",
    "    # Joining the values in the keywords dictionary with the OR (|) operator updating them in keywords_dict dictionary\n",
    "    keywords_dict[intent]=keys\n",
    "print (keywords_dict)"
   ]
  },
  {
   "cell_type": "markdown",
   "id": "b6c7b0ef-6000-4d6b-a673-09c22b918f20",
   "metadata": {},
   "source": [
    "#### Defining responses"
   ]
  },
  {
   "cell_type": "markdown",
   "id": "aacbe5c4-7771-43fd-8d9b-e149dc3d93b2",
   "metadata": {},
   "source": [
    "The next step is defining responses for each intent type. This part is very straightforward. The responses are described in another dictionary with the intent being the key.\n",
    "We’ve also added a fallback intent and its response. This is a fail-safe response in case the chatbot is unable to extract any relevant keywords from the user input."
   ]
  },
  {
   "cell_type": "code",
   "execution_count": 6,
   "id": "a6f0fb92-5642-446f-8745-7a5a18787dc5",
   "metadata": {},
   "outputs": [],
   "source": [
    "# Building a dictionary of responses\n",
    "responses={\n",
    "    'greet':'Hello! How can I help you?',\n",
    "    'timings':'We are open from 9AM to 5PM, Monday to Friday. We are closed on weekends and public holidays.',\n",
    "    'fallback':'I dont quite understand. Could you repeat that?',\n",
    "}"
   ]
  },
  {
   "cell_type": "code",
   "execution_count": null,
   "id": "4a6644f8-776f-4360-8f70-309b97d448e8",
   "metadata": {},
   "outputs": [
    {
     "name": "stdout",
     "output_type": "stream",
     "text": [
      "Welcome to MyBank. How may I help you?\n"
     ]
    }
   ],
   "source": [
    "print (\"Welcome to MyBank. How may I help you?\")\n",
    "# While loop to run the chatbot indefinetely\n",
    "while (True):  \n",
    "    # Takes the user input and converts all characters to lowercase\n",
    "    user_input = input().lower()\n",
    "    # Defining the Chatbot's exit condition\n",
    "    if user_input == 'quit': \n",
    "        print (\"Thank you for visiting.\")\n",
    "        break    \n",
    "    matched_intent = None \n",
    "    for intent,pattern in keywords_dict.items():\n",
    "        for word in pattern:\n",
    "            if re.search(r'\\b' + word + r'\\b', user_input, re.IGNORECASE):\n",
    "                matched_intent=intent  \n",
    "            \n",
    "    # The fallback intent is selected by default\n",
    "    key='fallback' \n",
    "    if matched_intent in responses:\n",
    "        # If a keyword matches, the fallback intent is replaced by the matched intent as the key for the responses dictionary\n",
    "        key = matched_intent\n",
    "    # The chatbot prints the response that matches the selected intent\n",
    "    print (responses[key])"
   ]
  },
  {
   "cell_type": "code",
   "execution_count": null,
   "id": "d769ee0e-63b9-42a5-b923-4a56216db054",
   "metadata": {},
   "outputs": [],
   "source": []
  }
 ],
 "metadata": {
  "kernelspec": {
   "display_name": "Python 3 (ipykernel)",
   "language": "python",
   "name": "python3"
  },
  "language_info": {
   "codemirror_mode": {
    "name": "ipython",
    "version": 3
   },
   "file_extension": ".py",
   "mimetype": "text/x-python",
   "name": "python",
   "nbconvert_exporter": "python",
   "pygments_lexer": "ipython3",
   "version": "3.12.4"
  }
 },
 "nbformat": 4,
 "nbformat_minor": 5
}
