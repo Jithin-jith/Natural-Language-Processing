{
 "cells": [
  {
   "cell_type": "code",
   "execution_count": 1,
   "id": "349c1858-eb29-4bf9-bfa1-bae4534d4bad",
   "metadata": {},
   "outputs": [
    {
     "name": "stdout",
     "output_type": "stream",
     "text": [
      "True\n"
     ]
    }
   ],
   "source": [
    "import torch\n",
    "print(torch.cuda.is_available())\n",
    "import warnings\n",
    "warnings.filterwarnings('ignore')"
   ]
  },
  {
   "cell_type": "code",
   "execution_count": 2,
   "id": "cb46bbeb-5544-4aa7-97b7-cc843502cef1",
   "metadata": {},
   "outputs": [],
   "source": [
    "from transformers import AutoModelForQuestionAnswering, AutoTokenizer, pipeline\n",
    "\n",
    "#AutoModelForQuestionAnswering: A class to load pre-trained models for question-answering tasks.\n",
    "#AutoTokenizer: A class to load pre-trained tokenizers for models.\n",
    "#pipeline: A utility function to create an end-to-end pipeline for various NLP tasks."
   ]
  },
  {
   "cell_type": "code",
   "execution_count": 3,
   "id": "46ba695f-b87c-42e2-bc32-05fc4dab007d",
   "metadata": {},
   "outputs": [],
   "source": [
    "model_name = \"deepset/roberta-base-squad2\" \n",
    "\n",
    "#Pre-trained model you are using. deepset/roberta-base-squad2 is a model fine-tuned for the SQuAD2.0 dataset, designed for question-answering tasks"
   ]
  },
  {
   "cell_type": "code",
   "execution_count": 4,
   "id": "5b28c8fd-9e21-464f-aae8-b7ee50c6e416",
   "metadata": {},
   "outputs": [
    {
     "name": "stdout",
     "output_type": "stream",
     "text": [
      "WARNING:tensorflow:From C:\\Users\\JITHIN\\anaconda3\\envs\\nlp\\Lib\\site-packages\\tf_keras\\src\\losses.py:2976: The name tf.losses.sparse_softmax_cross_entropy is deprecated. Please use tf.compat.v1.losses.sparse_softmax_cross_entropy instead.\n",
      "\n"
     ]
    }
   ],
   "source": [
    "nlp = pipeline('question-answering', model=model_name, tokenizer=model_name, device=0)\n",
    "\n",
    "#creating a question-answering pipeline using the specified model and tokenizer."
   ]
  },
  {
   "cell_type": "code",
   "execution_count": 5,
   "id": "6533e817-65d7-4a6f-8a00-be0be18712c9",
   "metadata": {},
   "outputs": [],
   "source": [
    "QA_input = {\n",
    "    'question': 'Why is model conversion important?',\n",
    "    'context': 'The option to convert models between FARM and transformers gives freedom to the user and let people easily switch between frameworks.'\n",
    "}\n",
    "\n",
    "#question: The question you want to ask.\n",
    "#context: The passage or text from which the answer will be extracted."
   ]
  },
  {
   "cell_type": "code",
   "execution_count": 11,
   "id": "8696c121-db3e-482f-a177-95def247ea58",
   "metadata": {},
   "outputs": [
    {
     "name": "stdout",
     "output_type": "stream",
     "text": [
      "gives freedom to the user\n"
     ]
    }
   ],
   "source": [
    "res = nlp(QA_input)\n",
    "\n",
    "#Applies the pipeline to the input dictionary, performing the question-answering task\n",
    "\n",
    "print(res['answer'])"
   ]
  },
  {
   "cell_type": "code",
   "execution_count": 7,
   "id": "aa61c8c7-b615-4d70-8a4c-62d52893988a",
   "metadata": {},
   "outputs": [],
   "source": [
    "QA_input2 = {\n",
    "    'question': 'What are some examples of traditional Indian painting styles?',\n",
    "    'context': \"\"\"Indian art and culture have a rich and diverse history that spans thousands of years.\n",
    "    One of the most prominent features of Indian art is its intricate and symbolic nature, seen in forms \n",
    "    ranging from ancient cave paintings in Ajanta and Ellora to the detailed sculptures of Khajuraho.\n",
    "    Indian classical dance forms like Bharatanatyam, Kathak, and Odissi reflect the deep connection between art, \n",
    "    spirituality, and storytelling, often drawing on themes from Hindu mythology. Similarly, Indian music, \n",
    "    both classical (like Hindustani and Carnatic) and folk, plays a significant role in cultural expression, \n",
    "    often accompanying religious and social ceremonies. The traditional art of Indian painting, \n",
    "    including styles like Madhubani, Warli, and Pattachitra, uses vibrant colors and motifs that depict nature, \n",
    "    mythology, and daily life. Indian architecture, from the grandeur of the Taj Mahal to the intricate carvings of South Indian temples, \n",
    "    showcases the skill and aesthetic sensibilities of Indian artisans. \n",
    "    Indian culture is not just a celebration of visual arts but also includes a rich tradition of crafts such as pottery, \n",
    "    weaving, and jewelry making, which have been passed down through generations.\"\"\"\n",
    "}\n"
   ]
  },
  {
   "cell_type": "code",
   "execution_count": 10,
   "id": "9d21d5d3-709e-4fd6-b676-0036e7b10bf8",
   "metadata": {},
   "outputs": [
    {
     "name": "stdout",
     "output_type": "stream",
     "text": [
      "Madhubani, Warli, and Pattachitra\n"
     ]
    }
   ],
   "source": [
    "res2 = nlp(QA_input2)\n",
    "print(res2['answer'])"
   ]
  },
  {
   "cell_type": "code",
   "execution_count": null,
   "id": "1ed752c2-b047-4a49-81f9-3d729aa2e3aa",
   "metadata": {},
   "outputs": [],
   "source": []
  }
 ],
 "metadata": {
  "kernelspec": {
   "display_name": "Python 3 (ipykernel)",
   "language": "python",
   "name": "python3"
  },
  "language_info": {
   "codemirror_mode": {
    "name": "ipython",
    "version": 3
   },
   "file_extension": ".py",
   "mimetype": "text/x-python",
   "name": "python",
   "nbconvert_exporter": "python",
   "pygments_lexer": "ipython3",
   "version": "3.12.4"
  }
 },
 "nbformat": 4,
 "nbformat_minor": 5
}
