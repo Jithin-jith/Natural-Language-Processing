{
 "cells": [
  {
   "cell_type": "code",
   "execution_count": 1,
   "id": "349c1858-eb29-4bf9-bfa1-bae4534d4bad",
   "metadata": {},
   "outputs": [
    {
     "name": "stdout",
     "output_type": "stream",
     "text": [
      "True\n"
     ]
    }
   ],
   "source": [
    "import torch\n",
    "print(torch.cuda.is_available())\n",
    "import warnings\n",
    "warnings.filterwarnings('ignore')"
   ]
  },
  {
   "cell_type": "code",
   "execution_count": 2,
   "id": "cb46bbeb-5544-4aa7-97b7-cc843502cef1",
   "metadata": {},
   "outputs": [],
   "source": [
    "from transformers import AutoModelForQuestionAnswering, AutoTokenizer, pipeline\n",
    "\n",
    "#AutoModelForQuestionAnswering: A class to load pre-trained models for question-answering tasks.\n",
    "#AutoTokenizer: A class to load pre-trained tokenizers for models.\n",
    "#pipeline: A utility function to create an end-to-end pipeline for various NLP tasks."
   ]
  },
  {
   "cell_type": "code",
   "execution_count": 3,
   "id": "46ba695f-b87c-42e2-bc32-05fc4dab007d",
   "metadata": {},
   "outputs": [],
   "source": [
    "model_name = \"deepset/roberta-base-squad2\" \n",
    "\n",
    "#Pre-trained model you are using. deepset/roberta-base-squad2 is a model fine-tuned for the SQuAD2.0 dataset, designed for question-answering tasks"
   ]
  },
  {
   "cell_type": "code",
   "execution_count": 4,
   "id": "5b28c8fd-9e21-464f-aae8-b7ee50c6e416",
   "metadata": {},
   "outputs": [
    {
     "name": "stdout",
     "output_type": "stream",
     "text": [
      "WARNING:tensorflow:From C:\\Users\\JITHIN\\anaconda3\\envs\\nlp\\Lib\\site-packages\\tf_keras\\src\\losses.py:2976: The name tf.losses.sparse_softmax_cross_entropy is deprecated. Please use tf.compat.v1.losses.sparse_softmax_cross_entropy instead.\n",
      "\n"
     ]
    }
   ],
   "source": [
    "nlp = pipeline('question-answering', model=model_name, tokenizer=model_name, device=0)\n",
    "\n",
    "#creating a question-answering pipeline using the specified model and tokenizer."
   ]
  },
  {
   "cell_type": "code",
   "execution_count": 5,
   "id": "6533e817-65d7-4a6f-8a00-be0be18712c9",
   "metadata": {},
   "outputs": [],
   "source": [
    "QA_input = {\n",
    "    'question': 'Why is model conversion important?',\n",
    "    'context': 'The option to convert models between FARM and transformers gives freedom to the user and let people easily switch between frameworks.'\n",
    "}\n",
    "\n",
    "#question: The question you want to ask.\n",
    "#context: The passage or text from which the answer will be extracted."
   ]
  },
  {
   "cell_type": "code",
   "execution_count": 6,
   "id": "8696c121-db3e-482f-a177-95def247ea58",
   "metadata": {},
   "outputs": [
    {
     "name": "stdout",
     "output_type": "stream",
     "text": [
      "gives freedom to the user\n"
     ]
    }
   ],
   "source": [
    "res = nlp(QA_input)\n",
    "\n",
    "#Applies the pipeline to the input dictionary, performing the question-answering task\n",
    "\n",
    "print(res['answer'])"
   ]
  },
  {
   "cell_type": "code",
   "execution_count": 7,
   "id": "aa61c8c7-b615-4d70-8a4c-62d52893988a",
   "metadata": {},
   "outputs": [],
   "source": [
    "QA_input2 = {\n",
    "    'question': 'What are some examples of traditional Indian painting styles?',\n",
    "    'context': \"\"\"Indian art and culture have a rich and diverse history that spans thousands of years.\n",
    "    One of the most prominent features of Indian art is its intricate and symbolic nature, seen in forms \n",
    "    ranging from ancient cave paintings in Ajanta and Ellora to the detailed sculptures of Khajuraho.\n",
    "    Indian classical dance forms like Bharatanatyam, Kathak, and Odissi reflect the deep connection between art, \n",
    "    spirituality, and storytelling, often drawing on themes from Hindu mythology. Similarly, Indian music, \n",
    "    both classical (like Hindustani and Carnatic) and folk, plays a significant role in cultural expression, \n",
    "    often accompanying religious and social ceremonies. The traditional art of Indian painting, \n",
    "    including styles like Madhubani, Warli, and Pattachitra, uses vibrant colors and motifs that depict nature, \n",
    "    mythology, and daily life. Indian architecture, from the grandeur of the Taj Mahal to the intricate carvings of South Indian temples, \n",
    "    showcases the skill and aesthetic sensibilities of Indian artisans. \n",
    "    Indian culture is not just a celebration of visual arts but also includes a rich tradition of crafts such as pottery, \n",
    "    weaving, and jewelry making, which have been passed down through generations.\"\"\"\n",
    "}\n"
   ]
  },
  {
   "cell_type": "code",
   "execution_count": 8,
   "id": "9d21d5d3-709e-4fd6-b676-0036e7b10bf8",
   "metadata": {},
   "outputs": [
    {
     "name": "stdout",
     "output_type": "stream",
     "text": [
      "Madhubani, Warli, and Pattachitra\n"
     ]
    }
   ],
   "source": [
    "res2 = nlp(QA_input2)\n",
    "print(res2['answer'])"
   ]
  },
  {
   "cell_type": "markdown",
   "id": "4a4b595c-e675-459d-92f5-4f287d37913a",
   "metadata": {},
   "source": [
    "## Lets try with Large chunks of Data"
   ]
  },
  {
   "cell_type": "code",
   "execution_count": 9,
   "id": "11634f76-6c11-468d-bd19-e8a5d4f527e4",
   "metadata": {},
   "outputs": [],
   "source": [
    "from transformers import pipeline\n",
    "\n",
    "# Load the pre-trained model and tokenizer\n",
    "qa_pipeline = pipeline(\"question-answering\", model=\"deepset/roberta-base-squad2\",device=0)"
   ]
  },
  {
   "cell_type": "code",
   "execution_count": 10,
   "id": "10d817d1-850f-41ba-b133-d302ff9bce9a",
   "metadata": {},
   "outputs": [],
   "source": [
    "# Paragraph (20 sentences) as context\n",
    "context = \"\"\"\n",
    "Artificial Intelligence (AI) is revolutionizing various industries, ranging from healthcare to finance.\n",
    "In healthcare, AI systems are being used to predict patient outcomes and personalize treatment plans.\n",
    "Machine learning algorithms analyze vast amounts of data to find patterns that humans might miss.\n",
    "For example, AI is helping doctors diagnose diseases like cancer at an early stage.\n",
    "In finance, AI-powered algorithms are improving trading strategies and risk management.\n",
    "They analyze market trends and make decisions faster than human traders.\n",
    "Additionally, AI is being used in customer service, where chatbots provide instant responses to customer queries.\n",
    "Self-driving cars are another significant advancement, utilizing AI to navigate roads and avoid obstacles.\n",
    "These cars use a combination of sensors, cameras, and AI algorithms to operate safely.\n",
    "AI is also playing a role in education, where personalized learning platforms adapt to the needs of individual students.\n",
    "However, the rise of AI raises ethical concerns, such as the potential for job displacement and privacy issues.\n",
    "AI systems can inadvertently perpetuate biases present in their training data.\n",
    "Therefore, it's crucial to ensure that AI models are trained on diverse datasets.\n",
    "In the field of robotics, AI is enhancing the capabilities of robots, allowing them to perform complex tasks.\n",
    "AI in robotics is used in manufacturing, where robots work alongside humans.\n",
    "Meanwhile, in the entertainment industry, AI is being used to create personalized content recommendations.\n",
    "Social media platforms employ AI algorithms to suggest posts and ads that are likely to engage users.\n",
    "AI is even being used to compose music and write news articles.\n",
    "As AI continues to evolve, it is expected to unlock new opportunities and transform the way we live and work.\n",
    "Despite the numerous benefits, there are calls for regulations to ensure AI is developed responsibly.\n",
    "Researchers are exploring ways to make AI more transparent and accountable. Ultimately, the goal is to harness AI for the betterment of society.\n",
    "\"\"\"\n",
    "\n",
    "# Define the question\n",
    "question = \"How is AI being used in the healthcare industry?\"\n",
    "\n",
    "# Split the context into smaller chunks for the model\n",
    "# Each chunk should ideally be under the model's token limit (approx. 512 tokens)\n",
    "# Here we split by sentences for simplicity, adjust based on token count if needed\n",
    "chunks = [\n",
    "    \"Artificial Intelligence (AI) is revolutionizing various industries, ranging from healthcare to finance. In healthcare, AI systems are being used to predict patient outcomes and personalize treatment plans. Machine learning algorithms analyze vast amounts of data to find patterns that humans might miss. For example, AI is helping doctors diagnose diseases like cancer at an early stage.\",\n",
    "    \"In finance, AI-powered algorithms are improving trading strategies and risk management. They analyze market trends and make decisions faster than human traders. Additionally, AI is being used in customer service, where chatbots provide instant responses to customer queries. Self-driving cars are another significant advancement, utilizing AI to navigate roads and avoid obstacles.\",\n",
    "    \"These cars use a combination of sensors, cameras, and AI algorithms to operate safely. AI is also playing a role in education, where personalized learning platforms adapt to the needs of individual students. However, the rise of AI raises ethical concerns, such as the potential for job displacement and privacy issues. AI systems can inadvertently perpetuate biases present in their training data.\",\n",
    "    \"Therefore, it's crucial to ensure that AI models are trained on diverse datasets. In the field of robotics, AI is enhancing the capabilities of robots, allowing them to perform complex tasks. AI in robotics is used in manufacturing, where robots work alongside humans. Meanwhile, in the entertainment industry, AI is being used to create personalized content recommendations.\",\n",
    "    \"Social media platforms employ AI algorithms to suggest posts and ads that are likely to engage users. AI is even being used to compose music and write news articles. As AI continues to evolve, it is expected to unlock new opportunities and transform the way we live and work. Despite the numerous benefits, there are calls for regulations to ensure AI is developed responsibly.\"\n",
    "]"
   ]
  },
  {
   "cell_type": "code",
   "execution_count": 11,
   "id": "9d5ed359-7fb4-4c49-8b59-350141a9903b",
   "metadata": {},
   "outputs": [],
   "source": [
    "# Function to get answers from each chunk\n",
    "def get_answers(question, chunks):\n",
    "    answers = []\n",
    "    for chunk in chunks:\n",
    "        result = qa_pipeline({'question': question, 'context': chunk})\n",
    "        answers.append((result['answer'], result['score']))\n",
    "    return answers\n",
    "\n",
    "# Get answers and confidence scores from each chunk\n",
    "answers = get_answers(question, chunks)"
   ]
  },
  {
   "cell_type": "code",
   "execution_count": 12,
   "id": "be3b4647-92ae-4308-84c5-5efa5810777e",
   "metadata": {},
   "outputs": [
    {
     "name": "stdout",
     "output_type": "stream",
     "text": [
      "Chunk 1 Answer: to predict patient outcomes and personalize treatment plans (Confidence: 0.67)\n",
      "Chunk 2 Answer: customer service (Confidence: 0.00)\n",
      "Chunk 3 Answer: personalized learning platforms adapt to the needs of individual students (Confidence: 0.00)\n",
      "Chunk 4 Answer: to create personalized content recommendations (Confidence: 0.00)\n",
      "Chunk 5 Answer: compose music and write news articles (Confidence: 0.00)\n",
      "\n",
      "Best Answer: to predict patient outcomes and personalize treatment plans\n",
      "Confidence Score: 0.6696314811706543\n"
     ]
    }
   ],
   "source": [
    "# Print answers and scores for each chunk\n",
    "for idx, (answer, score) in enumerate(answers):\n",
    "    print(f\"Chunk {idx+1} Answer: {answer} (Confidence: {score:.2f})\")\n",
    "\n",
    "# Select the answer with the highest confidence score\n",
    "best_answer = max(answers, key=lambda x: x[1])\n",
    "\n",
    "print(\"\\nBest Answer:\", best_answer[0])\n",
    "print(\"Confidence Score:\", best_answer[1])"
   ]
  },
  {
   "cell_type": "markdown",
   "id": "9ad475e0-c959-4645-829d-f401e5d2ccad",
   "metadata": {},
   "source": [
    "## Lets try with a models that can process large number of tokens"
   ]
  },
  {
   "cell_type": "markdown",
   "id": "6caf7647-062a-43c8-91aa-ff9b8aaf5629",
   "metadata": {},
   "source": [
    "### 1. Longformer Model"
   ]
  },
  {
   "cell_type": "code",
   "execution_count": 13,
   "id": "7d361d00-a8d3-4a97-83e0-e0a951064dd0",
   "metadata": {},
   "outputs": [
    {
     "data": {
      "application/vnd.jupyter.widget-view+json": {
       "model_id": "9a98136f569247f7a985a88171b877c9",
       "version_major": 2,
       "version_minor": 0
      },
      "text/plain": [
       "tokenizer_config.json:   0%|          | 0.00/26.0 [00:00<?, ?B/s]"
      ]
     },
     "metadata": {},
     "output_type": "display_data"
    },
    {
     "data": {
      "application/vnd.jupyter.widget-view+json": {
       "model_id": "ad081e88c91e482c870eb5d194fb20de",
       "version_major": 2,
       "version_minor": 0
      },
      "text/plain": [
       "vocab.json:   0%|          | 0.00/798k [00:00<?, ?B/s]"
      ]
     },
     "metadata": {},
     "output_type": "display_data"
    },
    {
     "data": {
      "application/vnd.jupyter.widget-view+json": {
       "model_id": "63ff32f0813b4602855e39f7eb3a9bbd",
       "version_major": 2,
       "version_minor": 0
      },
      "text/plain": [
       "merges.txt:   0%|          | 0.00/456k [00:00<?, ?B/s]"
      ]
     },
     "metadata": {},
     "output_type": "display_data"
    },
    {
     "data": {
      "application/vnd.jupyter.widget-view+json": {
       "model_id": "ba106d3951084594ad22b7f155d24db8",
       "version_major": 2,
       "version_minor": 0
      },
      "text/plain": [
       "special_tokens_map.json:   0%|          | 0.00/150 [00:00<?, ?B/s]"
      ]
     },
     "metadata": {},
     "output_type": "display_data"
    },
    {
     "data": {
      "application/vnd.jupyter.widget-view+json": {
       "model_id": "90196c54f5f044f8b07aee2c2d429166",
       "version_major": 2,
       "version_minor": 0
      },
      "text/plain": [
       "config.json:   0%|          | 0.00/757 [00:00<?, ?B/s]"
      ]
     },
     "metadata": {},
     "output_type": "display_data"
    },
    {
     "data": {
      "application/vnd.jupyter.widget-view+json": {
       "model_id": "2325f9916fec4e52ab4064ec17affc35",
       "version_major": 2,
       "version_minor": 0
      },
      "text/plain": [
       "pytorch_model.bin:   0%|          | 0.00/595M [00:00<?, ?B/s]"
      ]
     },
     "metadata": {},
     "output_type": "display_data"
    },
    {
     "name": "stderr",
     "output_type": "stream",
     "text": [
      "Some weights of the model checkpoint at valhalla/longformer-base-4096-finetuned-squadv1 were not used when initializing LongformerForQuestionAnswering: ['longformer.pooler.dense.bias', 'longformer.pooler.dense.weight']\n",
      "- This IS expected if you are initializing LongformerForQuestionAnswering from the checkpoint of a model trained on another task or with another architecture (e.g. initializing a BertForSequenceClassification model from a BertForPreTraining model).\n",
      "- This IS NOT expected if you are initializing LongformerForQuestionAnswering from the checkpoint of a model that you expect to be exactly identical (initializing a BertForSequenceClassification model from a BertForSequenceClassification model).\n",
      "Hardware accelerator e.g. GPU is available in the environment, but no `device` argument is passed to the `Pipeline` object. Model will be on CPU.\n",
      "Input ids are automatically padded to be a multiple of `config.attention_window`: 512\n"
     ]
    },
    {
     "name": "stdout",
     "output_type": "stream",
     "text": [
      "Answer: predict patient outcomes and personalize treatment plans.\n"
     ]
    }
   ],
   "source": [
    "from transformers import LongformerTokenizer, LongformerForQuestionAnswering, pipeline\n",
    "\n",
    "# Load Longformer model and tokenizer\n",
    "tokenizer = LongformerTokenizer.from_pretrained(\"valhalla/longformer-base-4096-finetuned-squadv1\")\n",
    "model = LongformerForQuestionAnswering.from_pretrained(\"valhalla/longformer-base-4096-finetuned-squadv1\")\n",
    "\n",
    "# Initialize the QA pipeline with the Longformer model\n",
    "qa_pipeline = pipeline(\"question-answering\", model=model, tokenizer=tokenizer,device=0)\n",
    "\n",
    "# Define the question and the context\n",
    "context = \"\"\"\n",
    "Artificial Intelligence (AI) is revolutionizing various industries, ranging from healthcare to finance.\n",
    "In healthcare, AI systems are being used to predict patient outcomes and personalize treatment plans.\n",
    "Machine learning algorithms analyze vast amounts of data to find patterns that humans might miss.\n",
    "For example, AI is helping doctors diagnose diseases like cancer at an early stage.\n",
    "In finance, AI-powered algorithms are improving trading strategies and risk management.\n",
    "They analyze market trends and make decisions faster than human traders.\n",
    "Additionally, AI is being used in customer service, where chatbots provide instant responses to customer queries.\n",
    "Self-driving cars are another significant advancement, utilizing AI to navigate roads and avoid obstacles.\n",
    "These cars use a combination of sensors, cameras, and AI algorithms to operate safely.\n",
    "AI is also playing a role in education, where personalized learning platforms adapt to the needs of individual students.\n",
    "However, the rise of AI raises ethical concerns, such as the potential for job displacement and privacy issues.\n",
    "AI systems can inadvertently perpetuate biases present in their training data.\n",
    "Therefore, it's crucial to ensure that AI models are trained on diverse datasets.\n",
    "In the field of robotics, AI is enhancing the capabilities of robots, allowing them to perform complex tasks.\n",
    "AI in robotics is used in manufacturing, where robots work alongside humans.\n",
    "Meanwhile, in the entertainment industry, AI is being used to create personalized content recommendations.\n",
    "Social media platforms employ AI algorithms to suggest posts and ads that are likely to engage users.\n",
    "AI is even being used to compose music and write news articles.\n",
    "As AI continues to evolve, it is expected to unlock new opportunities and transform the way we live and work.\n",
    "Despite the numerous benefits, there are calls for regulations to ensure AI is developed responsibly.\n",
    "Researchers are exploring ways to make AI more transparent and accountable. Ultimately, the goal is to harness AI for the betterment of society.\n",
    "\"\"\"\n",
    "\n",
    "question = \"How is AI being used in the healthcare industry?\"\n",
    "\n",
    "# Get the answer\n",
    "result = qa_pipeline({'question': question, 'context': context})\n",
    "print(f\"Answer: {result['answer']}\")\n"
   ]
  },
  {
   "cell_type": "code",
   "execution_count": null,
   "id": "72e16edb-acc1-4472-accf-99ab50b77f5c",
   "metadata": {},
   "outputs": [],
   "source": []
  }
 ],
 "metadata": {
  "kernelspec": {
   "display_name": "Python 3 (ipykernel)",
   "language": "python",
   "name": "python3"
  },
  "language_info": {
   "codemirror_mode": {
    "name": "ipython",
    "version": 3
   },
   "file_extension": ".py",
   "mimetype": "text/x-python",
   "name": "python",
   "nbconvert_exporter": "python",
   "pygments_lexer": "ipython3",
   "version": "3.12.4"
  }
 },
 "nbformat": 4,
 "nbformat_minor": 5
}
