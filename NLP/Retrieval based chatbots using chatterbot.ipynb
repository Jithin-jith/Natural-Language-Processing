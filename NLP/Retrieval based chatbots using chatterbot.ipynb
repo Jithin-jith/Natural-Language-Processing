{
 "cells": [
  {
   "cell_type": "markdown",
   "id": "1167d274-a44f-4d11-a679-6b3208017a3f",
   "metadata": {},
   "source": [
    "# Chatterbot"
   ]
  },
  {
   "cell_type": "markdown",
   "id": "55f311cf-b522-4c2b-9cf8-20256e9b6e53",
   "metadata": {},
   "source": [
    "ChatterBot is a Python library designed to create conversational chatbots. It uses machine learning techniques to generate responses based on the input it receives."
   ]
  },
  {
   "cell_type": "markdown",
   "id": "c6a2c3e5-8208-43d9-89bd-5d3165c051be",
   "metadata": {},
   "source": [
    "Let's see an example of creating a simple chatbot, training it with a small set of example conversations, and getting a response to an input statement."
   ]
  },
  {
   "cell_type": "code",
   "execution_count": 1,
   "id": "ad8ddab7-7363-4b5c-b9a6-1990e31d55a9",
   "metadata": {},
   "outputs": [],
   "source": [
    "from chatterbot import ChatBot \n",
    "#to create a chatbot instance\n",
    "from chatterbot.trainers import ListTrainer \n",
    "#ListTrainer is a class used for training a chatbot with a list of conversational examples."
   ]
  },
  {
   "cell_type": "markdown",
   "id": "8c8dbb8e-f6bb-4b96-bc72-b409dbfd8a7e",
   "metadata": {},
   "source": [
    "#### Create a new chat bot named Jo"
   ]
  },
  {
   "cell_type": "code",
   "execution_count": 2,
   "id": "c9258c35-10ba-4835-b549-f5077b2d24de",
   "metadata": {
    "jp-MarkdownHeadingCollapsed": true
   },
   "outputs": [
    {
     "name": "stdout",
     "output_type": "stream",
     "text": [
      "List Trainer: [#                   ] 4%"
     ]
    },
    {
     "name": "stderr",
     "output_type": "stream",
     "text": [
      "[nltk_data] Downloading package averaged_perceptron_tagger to\n",
      "[nltk_data]     C:\\Users\\JITHIN\\AppData\\Roaming\\nltk_data...\n",
      "[nltk_data]   Package averaged_perceptron_tagger is already up-to-\n",
      "[nltk_data]       date!\n",
      "[nltk_data] Downloading package punkt to\n",
      "[nltk_data]     C:\\Users\\JITHIN\\AppData\\Roaming\\nltk_data...\n",
      "[nltk_data]   Package punkt is already up-to-date!\n",
      "[nltk_data] Downloading package stopwords to\n",
      "[nltk_data]     C:\\Users\\JITHIN\\AppData\\Roaming\\nltk_data...\n",
      "[nltk_data]   Package stopwords is already up-to-date!\n"
     ]
    },
    {
     "name": "stdout",
     "output_type": "stream",
     "text": [
      "List Trainer: [####################] 100%\n"
     ]
    }
   ],
   "source": [
    "chatbot = ChatBot('Jo')\n",
    "trainer = ListTrainer(chatbot)\n",
    "\n",
    "basic_conversation = [\n",
    "    \"Hi\",\n",
    "    \"Hello\",\n",
    "    \"How are you?\",\n",
    "    \"I'm good, thank you! How about you?\",\n",
    "    \"I'm great, thanks for asking.\",\n",
    "    \"What's your name?\",\n",
    "    \"I'm a chatbot created to assist you.\",\n",
    "    \"Nice to meet you.\",\n",
    "    \"Nice to meet you too.\",\n",
    "    \"Good morning\",\n",
    "    \"Good morning! How can I help you today?\",\n",
    "    \"Good afternoon\",\n",
    "    \"Good afternoon! How are you?\",\n",
    "    \"Good evening\",\n",
    "    \"Good evening! What can I do for you?\",\n",
    "    \"Goodbye\",\n",
    "    \"Goodbye! Have a nice day.\",\n",
    "    \"See you later\",\n",
    "    \"See you later! Take care.\",\n",
    "    \"Thank you\",\n",
    "    \"You're welcome!\",\n",
    "    \"Thanks\",\n",
    "    \"No problem!\"\n",
    "    \n",
    "]\n",
    "\n",
    "#lets train our chatbot with above conversation example\n",
    "\n",
    "trainer.train(basic_conversation) "
   ]
  },
  {
   "cell_type": "code",
   "execution_count": 3,
   "id": "0ffa5682-ddf9-4f8b-8992-48e10406f5bb",
   "metadata": {},
   "outputs": [
    {
     "name": "stdin",
     "output_type": "stream",
     "text": [
      "You :  hi\n"
     ]
    },
    {
     "name": "stdout",
     "output_type": "stream",
     "text": [
      "Bot :  Hello\n"
     ]
    },
    {
     "name": "stdin",
     "output_type": "stream",
     "text": [
      "You :  how are you\n"
     ]
    },
    {
     "name": "stdout",
     "output_type": "stream",
     "text": [
      "Bot :  I'm good, thank you! How about you?\n"
     ]
    },
    {
     "name": "stdin",
     "output_type": "stream",
     "text": [
      "You :  good morning\n"
     ]
    },
    {
     "name": "stdout",
     "output_type": "stream",
     "text": [
      "Bot :  Good morning! How can I help you today?\n"
     ]
    },
    {
     "name": "stdin",
     "output_type": "stream",
     "text": [
      "You :  what is ai?\n"
     ]
    },
    {
     "name": "stdout",
     "output_type": "stream",
     "text": [
      "Bot :  I'm great, thanks for asking.\n"
     ]
    },
    {
     "name": "stdin",
     "output_type": "stream",
     "text": [
      "You :  quit\n"
     ]
    },
    {
     "name": "stdout",
     "output_type": "stream",
     "text": [
      "Bot : Thank you for your time!\n"
     ]
    }
   ],
   "source": [
    "while True:\n",
    "    user_input = input('You : ').lower()\n",
    "    if user_input == 'quit':\n",
    "        print('Bot : Thank you for your time!')\n",
    "        break\n",
    "    else:\n",
    "        bot_response = chatbot.get_response(user_input)\n",
    "        print('Bot : ',bot_response)"
   ]
  },
  {
   "cell_type": "markdown",
   "id": "bb4b9764-d777-43a4-9da3-1d65d4806a7e",
   "metadata": {},
   "source": [
    "In the above conversation the chatbot didn't answer the question about ai. Now let's train the bot with a conversation involving ai and check its response."
   ]
  },
  {
   "cell_type": "markdown",
   "id": "9a1a3f69-dbcd-4d98-aa77-2318c55aadad",
   "metadata": {},
   "source": [
    "#### Let's create an ai conversation"
   ]
  },
  {
   "cell_type": "code",
   "execution_count": 4,
   "id": "734b7585-3e1c-495a-b48c-ed50b5f596bf",
   "metadata": {},
   "outputs": [],
   "source": [
    "ai_conversation = [\n",
    "    \"Hi\",\n",
    "    \"Hello! How can I assist you today?\",\n",
    "    \"Can you tell me about AI?\",\n",
    "    \"Sure! AI stands for Artificial Intelligence. It's the simulation of human intelligence in machines.\",\n",
    "    \"What are some examples of AI?\",\n",
    "    \"Examples of AI include virtual assistants like Siri and Alexa, self-driving cars, and recommendation systems used by companies like Netflix and Amazon.\",\n",
    "    \"How does AI work?\",\n",
    "    \"AI works by using algorithms and computational models to perform tasks that typically require human intelligence, such as learning from data, recognizing patterns, and making decisions.\",\n",
    "    \"What is machine learning?\",\n",
    "    \"Machine learning is a subset of AI that focuses on developing algorithms that allow computers to learn from and make predictions or decisions based on data.\",\n",
    "    \"Can AI think like humans?\",\n",
    "    \"AI can simulate certain aspects of human thinking, but it doesn't possess consciousness or self-awareness like humans do.\",\n",
    "    \"Is AI dangerous?\",\n",
    "    \"AI has the potential for both positive and negative impacts. It's important to develop and use AI responsibly to minimize risks and maximize benefits.\",\n",
    "    \"What are the benefits of AI?\",\n",
    "    \"AI can help improve efficiency, automate repetitive tasks, enhance decision-making, and provide personalized experiences in various fields such as healthcare, finance, and entertainment.\",\n",
    "    \"Can AI replace jobs?\",\n",
    "    \"AI can automate certain tasks, which might lead to job displacement in some areas. However, it can also create new job opportunities and augment human capabilities.\",\n",
    "    \"How can I learn more about AI?\",\n",
    "    \"There are many resources available online, including courses, tutorials, and articles. Websites like Coursera, edX, and Khan Academy offer courses on AI and machine learning.\"\n",
    "]\n"
   ]
  },
  {
   "cell_type": "code",
   "execution_count": 5,
   "id": "85da177c-21a4-4e04-a312-527062d12417",
   "metadata": {},
   "outputs": [
    {
     "name": "stdout",
     "output_type": "stream",
     "text": [
      "List Trainer: [####################] 100%\n"
     ]
    }
   ],
   "source": [
    "#train the bot using this conversation\n",
    "trainer.train(ai_conversation) "
   ]
  },
  {
   "cell_type": "code",
   "execution_count": 6,
   "id": "65bdea0a-d336-4e20-b4e8-3154e872bbe3",
   "metadata": {},
   "outputs": [
    {
     "name": "stdin",
     "output_type": "stream",
     "text": [
      "You :  hi\n"
     ]
    },
    {
     "name": "stdout",
     "output_type": "stream",
     "text": [
      "Bot :  Hello\n"
     ]
    },
    {
     "name": "stdin",
     "output_type": "stream",
     "text": [
      "You :  how are you?\n"
     ]
    },
    {
     "name": "stdout",
     "output_type": "stream",
     "text": [
      "Bot :  I'm good, thank you! How about you?\n"
     ]
    },
    {
     "name": "stdin",
     "output_type": "stream",
     "text": [
      "You :  what is ai\n"
     ]
    },
    {
     "name": "stdout",
     "output_type": "stream",
     "text": [
      "Bot :  No problem!\n"
     ]
    },
    {
     "name": "stdin",
     "output_type": "stream",
     "text": [
      "You :  what is ai?\n"
     ]
    },
    {
     "name": "stdout",
     "output_type": "stream",
     "text": [
      "Bot :  Nice to meet you too.\n"
     ]
    },
    {
     "name": "stdin",
     "output_type": "stream",
     "text": [
      "You :  can you tell me about AI?\n"
     ]
    },
    {
     "name": "stdout",
     "output_type": "stream",
     "text": [
      "Bot :  Sure! AI stands for Artificial Intelligence. It's the simulation of human intelligence in machines.\n"
     ]
    },
    {
     "name": "stdin",
     "output_type": "stream",
     "text": [
      "You :  quit\n"
     ]
    },
    {
     "name": "stdout",
     "output_type": "stream",
     "text": [
      "Bot : Thank you for your time!\n"
     ]
    }
   ],
   "source": [
    "#now lets check if the bot has learned to answer about ai.\n",
    "\n",
    "while True:\n",
    "    user_input = input('You : ').lower()\n",
    "    if user_input == 'quit':\n",
    "        print('Bot : Thank you for your time!')\n",
    "        break\n",
    "    else:\n",
    "        bot_response = chatbot.get_response(user_input)\n",
    "        print('Bot : ',bot_response)"
   ]
  },
  {
   "cell_type": "markdown",
   "id": "66387d57-f236-4b33-852e-7a7e5a6e2967",
   "metadata": {},
   "source": [
    "#### Explanation"
   ]
  },
  {
   "cell_type": "markdown",
   "id": "b767c7d3-cf8c-4125-a361-5a330d0660a5",
   "metadata": {},
   "source": [
    "ChatterBot uses different types of LogicAdapters to generate possible responses.This adapter searches the chatbot's database for the closest match to the input query using a similarity algorithm. It is often based on the Levenshtein distance, cosine similarity, or other distance metrics to find the closest matching statement.\n",
    "\n",
    "Here the question 'what is AI' may have more similarity to the responses \"Thanks\" and \"Nice to meet you?\". Thats the reason why we got that responses \"No problem\" and \"Nice to meet you too.\" from the bot. But when I ask 'Can you tell me about AI' it exactly matches the query in the database and hence got the correct answer \"Sure! AI stands for Artificial Intelligence. It's the simulation of human intelligence in machines.\"."
   ]
  },
  {
   "cell_type": "code",
   "execution_count": null,
   "id": "c2433a7d-633d-474b-9b9d-9d16fcfdb17e",
   "metadata": {},
   "outputs": [],
   "source": []
  }
 ],
 "metadata": {
  "kernelspec": {
   "display_name": "Python 3 (ipykernel)",
   "language": "python",
   "name": "python3"
  },
  "language_info": {
   "codemirror_mode": {
    "name": "ipython",
    "version": 3
   },
   "file_extension": ".py",
   "mimetype": "text/x-python",
   "name": "python",
   "nbconvert_exporter": "python",
   "pygments_lexer": "ipython3",
   "version": "3.12.4"
  }
 },
 "nbformat": 4,
 "nbformat_minor": 5
}
